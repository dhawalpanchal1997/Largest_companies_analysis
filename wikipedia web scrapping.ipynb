{
 "cells": [
  {
   "cell_type": "code",
   "execution_count": 1,
   "metadata": {},
   "outputs": [],
   "source": [
    "from bs4 import BeautifulSoup\n",
    "import requests\n",
    "import pandas as pd\n",
    "import matplotlib.pyplot as plt\n",
    "import seaborn as sns\n",
    "from matplotlib.ticker import FuncFormatter\n"
   ]
  },
  {
   "cell_type": "code",
   "execution_count": 2,
   "metadata": {},
   "outputs": [],
   "source": [
    "# Define the Wikipedia URL containing the list of largest US companies\n",
    "url = 'https://en.wikipedia.org/wiki/List_of_largest_companies_in_the_United_States_by_revenue'\n",
    "\n",
    "page = requests.get(url)  # Send a GET request to the webpage\n",
    "\n",
    "soup = BeautifulSoup(page.text, 'html')  # Parse the HTML content using BeautifulSoup"
   ]
  },
  {
   "cell_type": "code",
   "execution_count": null,
   "metadata": {},
   "outputs": [],
   "source": [
    "print(soup)"
   ]
  },
  {
   "cell_type": "code",
   "execution_count": 4,
   "metadata": {},
   "outputs": [],
   "source": [
    "# Find the relevant table containing the data\n",
    "table = soup.find('table',class_='wikitable sortable')"
   ]
  },
  {
   "cell_type": "code",
   "execution_count": null,
   "metadata": {},
   "outputs": [],
   "source": [
    "# Extract table headers (column names)\n",
    "world_titles = table.find_all('th')\n",
    "world_table_titles = [title.text.strip() for title in world_titles]\n",
    "print(world_table_titles)"
   ]
  },
  {
   "cell_type": "code",
   "execution_count": 6,
   "metadata": {},
   "outputs": [],
   "source": [
    "# Create an empty DataFrame with the extracted column names\n",
    "df = pd.DataFrame(columns = world_table_titles)"
   ]
  },
  {
   "cell_type": "code",
   "execution_count": 7,
   "metadata": {},
   "outputs": [],
   "source": [
    "# Extract table rows and populate the DataFrame\n",
    "column_data = table.find_all('tr')\n",
    "for row in column_data[1:]:\n",
    "    row_data = row.find_all('td')\n",
    "    individual_row_data = [data.text.strip() for data in row_data]\n",
    "    \n",
    "    length = len(df)\n",
    "    df.loc[length] = individual_row_data"
   ]
  },
  {
   "cell_type": "code",
   "execution_count": null,
   "metadata": {},
   "outputs": [],
   "source": [
    "df"
   ]
  },
  {
   "cell_type": "code",
   "execution_count": 9,
   "metadata": {},
   "outputs": [],
   "source": [
    "# Save the DataFrame to a CSV file\n",
    "df.to_csv(r'C:\\Users\\dhawa\\OneDrive\\Desktop\\project\\Largest Companies Analysis\\wikidata.csv',index=False)"
   ]
  },
  {
   "cell_type": "code",
   "execution_count": null,
   "metadata": {},
   "outputs": [],
   "source": [
    "# Read and inspect the CSV file\n",
    "df.info()\n",
    "df.describe()"
   ]
  },
  {
   "cell_type": "code",
   "execution_count": 11,
   "metadata": {},
   "outputs": [],
   "source": [
    "# Create a copy to avoid modifying the original DataFrame\n",
    "df1 = df\n",
    "\n",
    "# Convert revenue to string, remove commas, then back to Int64\n",
    "df1['Revenue (USD millions)'] = df1['Revenue (USD millions)'].astype(str).str.replace(\",\", \"\").astype('Int64')\n",
    "\n",
    "# Convert 'Industry' to categorical\n",
    "df1['Industry'] = df1['Industry'].astype('category')\n",
    "\n",
    "# Convert revenue growth to float after removing '%'\n",
    "df1[\"Revenue growth\"] = df1[\"Revenue growth\"].astype(str).str.replace(\"%\", \"\").astype(float)\n",
    "\n",
    "# Convert employees count to integer after removing commas\n",
    "df1[\"Employees\"] = df1[\"Employees\"].astype(str).str.replace(\",\", \"\").astype('Int64')\n",
    "\n",
    "# Split 'Headquarters' into 'City' and 'State' safely\n",
    "df1[[\"City\", \"State\"]] = df1[\"Headquarters\"].astype(str).str.split(\",\",n=1, expand=True)\n",
    "\n",
    "# Strip spaces and convert to category\n",
    "df1[\"City\"] = df1[\"City\"].str.strip().astype(\"category\")\n",
    "df1[\"State\"] = df1[\"State\"].str.strip().astype(\"category\")\n",
    "\n",
    "# Drop unnecessary columns\n",
    "df1 = df1.drop(columns=['Headquarters','Rank'])\n"
   ]
  },
  {
   "cell_type": "code",
   "execution_count": null,
   "metadata": {},
   "outputs": [],
   "source": [
    "df1.info()\n",
    "df1.describe()"
   ]
  },
  {
   "cell_type": "code",
   "execution_count": null,
   "metadata": {},
   "outputs": [],
   "source": [
    "# Select the top 10 companies by revenue\n",
    "df_top10 = df1.nlargest(10, 'Revenue (USD millions)')\n",
    "\n",
    "# Define a custom color palette\n",
    "custom_palette = sns.color_palette(\"husl\", len(df_top10))\n",
    "\n",
    "# Create a bar plot for top 10 companies by revenue\n",
    "plt.figure(figsize=(19, 7)) \n",
    "ax = sns.barplot(x='Name' ,y='Revenue (USD millions)' ,data=df_top10 ,palette= custom_palette ,hue ='Name' , legend=False)\n",
    "\n",
    "# Annotate bars with values\n",
    "for p in ax.patches:\n",
    "    ax.text(p.get_x() + p.get_width() / 2,   # X-coordinate (center of bar)\n",
    "            p.get_height()-5,                # Y-coordinate (slightly below the top)\n",
    "            f'{int(p.get_height())}',        # Text (value)\n",
    "            ha='center',                     # Horizontal alignment\n",
    "            va='baseline',                   # Vertical alignment\n",
    "            fontsize=12, \n",
    "            color='black',                   # White text for contrast\n",
    "            fontweight='bold')\n",
    "\n",
    "# Labels and title\n",
    "plt.xlabel(\"Companies\")\n",
    "plt.ylabel(\"Revenue (USD Millions)\")\n",
    "plt.title(\"Top 10 Companies - Revenue(USD Millions)\")"
   ]
  },
  {
   "cell_type": "code",
   "execution_count": 14,
   "metadata": {},
   "outputs": [],
   "source": [
    "# Analyze industry-level revenue and revenue growth\n",
    "Ind_total_rev = df1.groupby('Industry', observed = False)['Revenue (USD millions)'].sum().reset_index()\n",
    "Avg_Rev_growth = df1.groupby('Industry',observed=False)['Revenue growth'].mean().reset_index()\n",
    "\n",
    "\n",
    "# Merge industry data\n",
    "Industry_data = pd.merge(Ind_total_rev,Avg_Rev_growth,on='Industry')"
   ]
  },
  {
   "cell_type": "code",
   "execution_count": null,
   "metadata": {},
   "outputs": [],
   "source": [
    "# Select top 10 industries by revenue\n",
    "Industry_data['Revenue (USD millions)'] = Industry_data['Revenue (USD millions)'].astype(int)\n",
    "Industry_data['Industry'] = Industry_data['Industry'].astype('object')\n",
    "Top_industries = Industry_data.sort_values(by='Revenue (USD millions)',ascending=False).head(10)\n",
    "\n",
    "# Define a custom color palette with different colors\n",
    "custom_palette = sns.color_palette(\"tab20\", 50)\n",
    "\n",
    "# Create bar plot for top industries\n",
    "plt.figure(figsize=(19, 7)) # Adjust figure size\n",
    "ax1 = sns.barplot(x='Industry', y='Revenue (USD millions)', data=Top_industries, palette= custom_palette, legend=False)\n",
    "\n",
    "# Define custom number formatting function\n",
    "def format_large_numbers(x, pos):\n",
    "    return '{:,.0f}'.format(x)\n",
    "\n",
    "# Apply the custom formatter to y-axis\n",
    "plt.gca().yaxis.set_major_formatter(FuncFormatter(format_large_numbers))\n",
    "\n",
    "# Annotate bars with values\n",
    "for p in ax.patches:\n",
    "    ax1.text(p.get_x() + p.get_width() / 2,   # X-coordinate (center of bar)\n",
    "            p.get_height()-5,                 # Y-coordinate (slightly below the top)\n",
    "            f'{int(p.get_height())}',         # Text (value)\n",
    "            ha='center',                      # Horizontal alignment\n",
    "            va='baseline',                    # Vertical alignment\n",
    "            fontsize=12, \n",
    "            color='black',                    # White text for contrast\n",
    "            fontweight='bold')\n",
    "\n",
    "# Labels and title\n",
    "plt.xticks(rotation=45,ha='right')\n",
    "plt.xlabel(\"Industries\")\n",
    "plt.ylabel(\"Revenue (USD Millions)\")\n",
    "plt.title(\"Top 10 Industries - Revenue(USD Millions)\")\n"
   ]
  },
  {
   "cell_type": "code",
   "execution_count": null,
   "metadata": {},
   "outputs": [],
   "source": [
    "# Define a custom color palette for the industries\n",
    "palette = sns.color_palette(\"tab20\", 50)\n",
    "\n",
    "# Create a scatter plot for Revenue vs Revenue Growth\n",
    "plt.figure(figsize=(12, 6))\n",
    "ax = sns.scatterplot(data=Industry_data, x='Revenue (USD millions)', y='Revenue growth', \n",
    "                size='Revenue (USD millions)', hue='Industry', \n",
    "                sizes=(50, 2000), legend=False,palette=palette)\n",
    "\n",
    "# Custom function to format the x-axis labels (remove scientific notation)\n",
    "def format_large_numbers(x, pos):\n",
    "    return '{:,.0f}'.format(x)\n",
    "\n",
    "# Apply the custom formatter to x-axis\n",
    "plt.gca().xaxis.set_major_formatter(FuncFormatter(format_large_numbers))\n",
    "\n",
    "# Add grid within the plot\n",
    "plt.grid(True, which='both', linestyle='--', linewidth=1, alpha=1)  # Customize the grid style\n",
    "\n",
    "# Add Labels and title\n",
    "plt.title('Revenue vs Revenue Growth by Industry')\n",
    "plt.xlabel('Revenue (USD millions)')\n",
    "plt.ylabel('Revenue Growth (%)')\n",
    "\n",
    "# Show plot\n",
    "plt.show()"
   ]
  },
  {
   "cell_type": "code",
   "execution_count": null,
   "metadata": {},
   "outputs": [],
   "source": [
    "# Count number of companies by state\n",
    "No_of_companies = df1.groupby('State',observed=False)['Name'].count().reset_index()\n",
    "No_of_companies['State'] = No_of_companies['State'].astype('object')\n",
    "top_10_states = No_of_companies.sort_values(by='Name',ascending=False).head(10)\n",
    "\n",
    "# Create bar plot for state-wise company count\n",
    "plt.figure(figsize=(20, 6))\n",
    "ax=sns.barplot(x='State', y='Name', data= top_10_states, hue=No_of_companies['State'], palette=\"coolwarm\", legend=False)\n",
    "\n",
    "# Annotate bars with values\n",
    "for p in ax.patches:\n",
    "    ax.annotate(f'{int(p.get_height())}', \n",
    "                (p.get_x() + p.get_width() / 2., p.get_height()), \n",
    "                ha='center', va='center', \n",
    "                xytext=(0, 5),  # Adjust vertical position of text\n",
    "                textcoords='offset points')\n",
    "\n",
    "# Add Labels and title\n",
    "plt.xticks(rotation=45)\n",
    "plt.title('State vs No. of Companies')\n",
    "plt.xlabel('Sates')\n",
    "plt.ylabel('Number of Fortune 100 companies')"
   ]
  },
  {
   "cell_type": "code",
   "execution_count": null,
   "metadata": {},
   "outputs": [],
   "source": [
    "# Create a pie chart for employee distribution by industry\n",
    "Employee_count = df1.groupby('Industry',observed=False)['Employees'].sum().reset_index()\n",
    "\n",
    "# Select top 10 industries\n",
    "top_10 = Employee_count.sort_values(by='Employees', ascending=False).head(10)\n",
    "\n",
    "colors = sns.color_palette(\"pastel\")\n",
    "\n",
    "# Apply seaborn style\n",
    "sns.set_style(\"whitegrid\")\n",
    "\n",
    "# Create pie chart\n",
    "plt.figure(figsize=(6, 6))\n",
    "plt.pie(top_10['Employees'], labels=top_10['Industry'], autopct='%1.1f%%', colors=colors, startangle=140, wedgeprops={'edgecolor': 'black'})\n",
    "\n",
    "# Display the chart\n",
    "plt.title(\"Top 10 Industries by Employee Count\")\n",
    "plt.show()"
   ]
  },
  {
   "cell_type": "code",
   "execution_count": null,
   "metadata": {},
   "outputs": [],
   "source": [
    "# Create a correlation matrix heatmap\n",
    "num_df = df1.select_dtypes(include=['int64', 'float64'])\n",
    "corr_df = num_df.corr()\n",
    "\n",
    "#Plot Heatmap \n",
    "sns.heatmap(corr_df,annot=True,cmap='coolwarm')\n",
    "\n",
    "#Add Titles and labels\n",
    "plt.title('Correlation Matrix')\n",
    "plt.show()"
   ]
  },
  {
   "cell_type": "code",
   "execution_count": null,
   "metadata": {},
   "outputs": [],
   "source": [
    "# Scatter plot for Employees vs Revenue\n",
    "RR_df = df1[[\"Employees\", \"Revenue (USD millions)\"]]\n",
    "\n",
    "plt.figure(figsize=(10,5))\n",
    "sns.regplot(x='Revenue (USD millions)', y='Employees', data=RR_df, scatter_kws={'alpha':0.5}, line_kws={'color':'red'})\n",
    "\n",
    "# Apply the custom formatter to x-axis\n",
    "plt.gca().yaxis.set_major_formatter(FuncFormatter(format_large_numbers))\n",
    "\n",
    "plt.title('No.of Employees vs Revenue (USD millions)')\n",
    "plt.xlabel('Revenue (USD millions)')\n",
    "plt.ylabel('No.of Employees')\n",
    "plt.show()"
   ]
  },
  {
   "cell_type": "code",
   "execution_count": null,
   "metadata": {},
   "outputs": [],
   "source": []
  },
  {
   "cell_type": "code",
   "execution_count": null,
   "metadata": {},
   "outputs": [],
   "source": []
  }
 ],
 "metadata": {
  "kernelspec": {
   "display_name": ".venv",
   "language": "python",
   "name": "python3"
  },
  "language_info": {
   "codemirror_mode": {
    "name": "ipython",
    "version": 3
   },
   "file_extension": ".py",
   "mimetype": "text/x-python",
   "name": "python",
   "nbconvert_exporter": "python",
   "pygments_lexer": "ipython3",
   "version": "3.12.4"
  }
 },
 "nbformat": 4,
 "nbformat_minor": 2
}
